{
 "cells": [
  {
   "cell_type": "markdown",
   "metadata": {},
   "source": [
    "# SageMaker Training を利用して学習する\n",
    "\n",
    "## 処理概要\n",
    "1. local モードで学習ジョブを動かす\n",
    "2. 推論が動くか確認する\n",
    "2. Traning インスタンスでハイパーパラメータ最適化を用いた学習ジョブを動かす\n",
    "3. 推論してみる"
   ]
  },
  {
   "cell_type": "code",
   "execution_count": null,
   "metadata": {},
   "outputs": [],
   "source": [
    "from IPython.core.display import display, HTML \n",
    "display(HTML(\"<style>.container { width:100% !important; }</style>\")) "
   ]
  },
  {
   "cell_type": "code",
   "execution_count": null,
   "metadata": {},
   "outputs": [],
   "source": [
    "import os, sagemaker, yaml\n",
    "from sagemaker.tensorflow import TensorFlow\n",
    "import numpy as np\n",
    "from matplotlib import pyplot as plt\n",
    "from sagemaker.tuner import ContinuousParameter, HyperparameterTuner\n",
    "\n",
    "role = sagemaker.get_execution_role()\n",
    "\n",
    "with open('./setting.yaml', 'r') as yml:\n",
    "    config = yaml.load(yml)\n",
    "train_data_uri = config['train_data_uri']\n",
    "test_data_uri = config['test_data_uri']\n",
    "print(f'role: {role}')\n",
    "print(f'train data uri: {train_data_uri}')\n",
    "print(f'test data uri: {test_data_uri}')"
   ]
  },
  {
   "cell_type": "markdown",
   "metadata": {},
   "source": [
    "## ローカルトレーニング\n",
    "### 学習のための estimator 作成\n",
    "* estimator とは training するためのインターフェース\n",
    "* 学習スクリプトや、トレーニングに使用するコンピューティングリソース、バージョンなどを指定する\n",
    "\n",
    "### 参考\n",
    "[TensorFlow Estimator](https://sagemaker.readthedocs.io/en/stable/frameworks/tensorflow/sagemaker.tensorflow.html#tensorflow-estimator)    \n",
    "[TensorFlow Estimator の継承元のsagemaker.estimator.Framework](https://sagemaker.readthedocs.io/en/stable/api/training/estimators.html#sagemaker.estimator.Framework)    \n",
    "[sagemaker.estimator.Framework の継承元のsagemaker.estimator.EstimatorBase](https://sagemaker.readthedocs.io/en/stable/api/training/estimators.html#sagemaker.estimator.EstimatorBase)    \n",
    "\n",
    "### ローカルトレーニングとは\n",
    "* training 用のインスタンスではなく、Notebook インスタンスで学習を行う（ローカル＝jupyter 環境)\n",
    "* training インスタンスの起動には時間がかかるため、学習コードにバグがあると、気づくのが10分後になる、などがありえる\n",
    "    * 効率的にモデルの開発をするために、そのコードで動くかどうかを確認するためにローカルトレーニングがある\n",
    "    * instance_type='local'と指定するだけで、ローカルトレーニングになる\n",
    "    * トレーニングインスタンスで docker pull して学習を始められる\n",
    "    * epochを1回など、動作確認の用途で利用する\n",
    "* instance_type='ml.m5.xlarge'などインスタンスのタイプを指定すると training インスタンスでの学習になる"
   ]
  },
  {
   "cell_type": "code",
   "execution_count": null,
   "metadata": {},
   "outputs": [],
   "source": [
    "local_estimator = TensorFlow(\n",
    "    entry_point='./train_script/train.py', # 学習用コードの指定、git リポジトリを指定する方法もある。また、ディレクトリ以下のコードも利用したい場合はsource_dir を指定する\n",
    "    role=role, # training ジョブを動かすロール。通常は notebook インスタンスに付与されている role を利用する\n",
    "    instance_count=1,\n",
    "    instance_type='local',\n",
    "    framework_version='2.1.0',\n",
    "    py_version='py3',\n",
    "    hyperparameters={\n",
    "        \"epochs\": 1,\n",
    "        'dropout-rate':0.2\n",
    "    }\n",
    ")"
   ]
  },
  {
   "cell_type": "code",
   "execution_count": null,
   "metadata": {
    "scrolled": true
   },
   "outputs": [],
   "source": [
    "# 学習(3分強で完了)\n",
    "%%time\n",
    "local_estimator.fit({\n",
    "    'train': train_data_uri,\n",
    "    'test': test_data_uri\n",
    "})"
   ]
  },
  {
   "cell_type": "markdown",
   "metadata": {},
   "source": [
    "## 推論チェックのためのローカル predictor を作成\n",
    "* 学習した結果、モデルをホスティングできるかのチェックを行う\n",
    "* 学習したモデルをホスティングするためにpredictorがある\n",
    "* estimator インスタンスから deploy するとpredictor を生成できる他、model のURIなどを指定して predictor を生成する方法もある(後述）\n",
    "* training 同様、instance_type='local'を指定することでローカルのpredictorを生成できる"
   ]
  },
  {
   "cell_type": "code",
   "execution_count": null,
   "metadata": {
    "scrolled": true
   },
   "outputs": [],
   "source": [
    "# ローカルで学習したモデルで推論を行う\n",
    "local_predictor = local_estimator.deploy(initial_instance_count=1, instance_type='local')"
   ]
  },
  {
   "cell_type": "code",
   "execution_count": null,
   "metadata": {},
   "outputs": [],
   "source": [
    "# 動作テスト用に s3 にアップロードした npy ファイルを notebook インスタンスにダウンロードしてくる\n",
    "!aws s3 cp {test_data_uri}/test_x.npy ./\n",
    "!aws s3 cp {test_data_uri}/test_y.npy ./"
   ]
  },
  {
   "cell_type": "code",
   "execution_count": null,
   "metadata": {},
   "outputs": [],
   "source": [
    "test_x = np.load('./test_x.npy')\n",
    "text_y = np.load('./test_y.npy')\n",
    "# データ確認\n",
    "plt.imshow(test_x[0,:,:,0],'gray')"
   ]
  },
  {
   "cell_type": "code",
   "execution_count": null,
   "metadata": {},
   "outputs": [],
   "source": [
    "# 推論確認（epochを1回しか回していないので外れていてもよい）\n",
    "np.argmax(local_predictor.predict(test_x[0:1,:,:,:])['predictions'])"
   ]
  },
  {
   "cell_type": "code",
   "execution_count": null,
   "metadata": {},
   "outputs": [],
   "source": [
    "# ローカルにホストしたい推論endpointを削除する\n",
    "local_predictor.delete_endpoint()"
   ]
  },
  {
   "cell_type": "markdown",
   "metadata": {},
   "source": [
    "## ハイパーパラメータ最適化を利用した training ジョブ\n",
    "* 単純に学習するだけであれば、先程の instance_type = 'ml.m5.xlarge'など実在するトレーニングインスタンスを指定することで学習できる\n",
    "* クラウドらしい使い方として、リソースを一時的に確保して HyperParameter Optimization を行う\n",
    "    * HPO は先程同様Estimatorを作成し、探索する HyperParameter を設定する\n",
    "    * 本ハンズオンは dropout 率を操作する\n",
    "* スポットインスタンス を利用する\n",
    "    * オンデマンドインスタンスはいつでも使えるインスタンスに対してスポットインスタンスは AWS 内で余っているリソースを安く利用するインスタンス\n",
    "    * スポットインスタンスは余っているリソースなので、ジョブが途中で終了させられてしまう可能性がある\n",
    "    * [詳細はこちら](https://docs.aws.amazon.com/ja_jp/sagemaker/latest/dg/model-managed-spot-training.html)\n",
    "    * 利用にはuse_spot_instances = 'True'を指定するだけで利用可能"
   ]
  },
  {
   "cell_type": "code",
   "execution_count": null,
   "metadata": {},
   "outputs": [],
   "source": [
    "hpo_estimator = TensorFlow(\n",
    "    entry_point='./train_script/train.py',\n",
    "    role=role,\n",
    "    instance_count=1,\n",
    "    instance_type='ml.p3.2xlarge',\n",
    "    framework_version='2.1.0',\n",
    "    py_version='py3',\n",
    "    hyperparameters={\n",
    "        \"epochs\": 4\n",
    "    },\n",
    "    max_run = 5000, # 学習は最大で5000秒までにする設定\n",
    "    use_spot_instances = 'True',\n",
    "    max_wait = 300, # spotインスタンスの空きを待つ最大時間\n",
    ")"
   ]
  },
  {
   "cell_type": "markdown",
   "metadata": {},
   "source": [
    "## 探索するハイパーパラメータの設定\n",
    "* [ContinuousParameter](https://sagemaker.readthedocs.io/en/stable/api/training/tuner.html#sagemaker.tuner.ContinuousParameter) は連続値を探索 ←今回はこちら\n",
    "* [IntegerParameter](https://sagemaker.readthedocs.io/en/stable/api/training/tuner.html#sagemaker.tuner.IntegerParameter)は整数を探索\n",
    "* [CategoricalParameter](https://sagemaker.readthedocs.io/en/stable/api/training/tuner.html#sagemaker.tuner.CategoricalParameter)はカテゴリーを探索"
   ]
  },
  {
   "cell_type": "code",
   "execution_count": null,
   "metadata": {},
   "outputs": [],
   "source": [
    "hyperparameter_ranges = {'dropout-rate': ContinuousParameter(0.001, 0.8)} # dropout を 0.001 ～ 0.8 の間で探索"
   ]
  },
  {
   "cell_type": "markdown",
   "metadata": {},
   "source": [
    "## ハイパーパラメータを探索する metrics を定義\n",
    "* val_accuracy が最大化するような探索\n",
    "* 学習字に標準出力される val_accuracy: 99.99 のような数値を取得する設定を正規表現で行う"
   ]
  },
  {
   "cell_type": "code",
   "execution_count": null,
   "metadata": {},
   "outputs": [],
   "source": [
    "objective_metric_name = 'val_accuracy'\n",
    "objective_type = 'Maximize'\n",
    "metric_definitions = [{'Name': 'val_accuracy',\n",
    "                       'Regex': 'val_accuracy: ([0-9\\\\.]+)'}]"
   ]
  },
  {
   "cell_type": "markdown",
   "metadata": {},
   "source": [
    "## ハイパーパラメータ探索ジョブを定義する\n",
    "* 対象とする estimator,metrics,ジョブ数,並列数などを指定する    \n",
    "[詳細はこちら](https://sagemaker.readthedocs.io/en/stable/api/training/tuner.html)"
   ]
  },
  {
   "cell_type": "code",
   "execution_count": null,
   "metadata": {},
   "outputs": [],
   "source": [
    "tuner = HyperparameterTuner(hpo_estimator,\n",
    "                            objective_metric_name,\n",
    "                            hyperparameter_ranges,\n",
    "                            metric_definitions,\n",
    "                            max_jobs=4,\n",
    "                            max_parallel_jobs=2,\n",
    "                            objective_type=objective_type)"
   ]
  },
  {
   "cell_type": "markdown",
   "metadata": {},
   "source": [
    "## ハイパーパラメータ探索ジョブを実行する"
   ]
  },
  {
   "cell_type": "code",
   "execution_count": null,
   "metadata": {},
   "outputs": [],
   "source": [
    "%%time\n",
    "tuner.fit({\n",
    "    'train': train_data_uri,\n",
    "    'test': test_data_uri\n",
    "})\n",
    "tuner.wait()"
   ]
  },
  {
   "cell_type": "markdown",
   "metadata": {},
   "source": [
    "## 学習した結果を hosting する\n",
    "* 探索して一番よかった結果が tuner に残るので、deploy メソッドで hosting する\n",
    "* instance_type と initial_instance_count を指定する    \n",
    "[詳細はこちら](https://sagemaker.readthedocs.io/en/stable/api/training/tuner.html#sagemaker.tuner.HyperparameterTuner.deploy)"
   ]
  },
  {
   "cell_type": "code",
   "execution_count": null,
   "metadata": {},
   "outputs": [],
   "source": [
    "predictor = tuner.deploy(instance_type='ml.m5.xlarge',initial_instance_count=1)"
   ]
  },
  {
   "cell_type": "markdown",
   "metadata": {},
   "source": [
    "## 推論"
   ]
  },
  {
   "cell_type": "code",
   "execution_count": null,
   "metadata": {},
   "outputs": [],
   "source": [
    "np.argmax(predictor.predict(test_x[0:1,:,:,:])['predictions'])"
   ]
  },
  {
   "cell_type": "markdown",
   "metadata": {},
   "source": [
    "## hosting したものを削除\n",
    "* delete_endpoint メソッドを呼び出すだけで削除可能"
   ]
  },
  {
   "cell_type": "code",
   "execution_count": null,
   "metadata": {},
   "outputs": [],
   "source": [
    "tuner.delete_endpoint()"
   ]
  },
  {
   "cell_type": "markdown",
   "metadata": {},
   "source": [
    "## 作成したモデルを再利用するために、モデルの保存先を設定ファイルに残す\n",
    "* describe メソッドで詳細情報を出力できる"
   ]
  },
  {
   "cell_type": "code",
   "execution_count": null,
   "metadata": {},
   "outputs": [],
   "source": [
    "best_training_job_name = tuner.describe()['BestTrainingJob']['TrainingJobName']"
   ]
  },
  {
   "cell_type": "code",
   "execution_count": null,
   "metadata": {},
   "outputs": [],
   "source": [
    "sess = sagemaker.session.Session()\n",
    "best_model_uri = sess.describe_training_job(best_training_job_name)['ModelArtifacts']['S3ModelArtifacts']\n",
    "print(f'best_model_uri: {best_model_uri}')"
   ]
  },
  {
   "cell_type": "code",
   "execution_count": null,
   "metadata": {},
   "outputs": [],
   "source": [
    "with open(\"./setting.yaml\", mode='a') as f:\n",
    "    f.write('best_model_uri: ' + best_model_uri +'\\n')"
   ]
  },
  {
   "cell_type": "code",
   "execution_count": null,
   "metadata": {},
   "outputs": [],
   "source": []
  }
 ],
 "metadata": {
  "instance_type": "ml.t3.medium",
  "kernelspec": {
   "display_name": "conda_python3",
   "language": "python",
   "name": "conda_python3"
  },
  "language_info": {
   "codemirror_mode": {
    "name": "ipython",
    "version": 3
   },
   "file_extension": ".py",
   "mimetype": "text/x-python",
   "name": "python",
   "nbconvert_exporter": "python",
   "pygments_lexer": "ipython3",
   "version": "3.6.10"
  }
 },
 "nbformat": 4,
 "nbformat_minor": 4
}
